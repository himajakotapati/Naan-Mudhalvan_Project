{
  "nbformat": 4,
  "nbformat_minor": 0,
  "metadata": {
    "colab": {
      "provenance": [],
      "toc_visible": true
    },
    "kernelspec": {
      "name": "python3",
      "display_name": "Python 3"
    },
    "language_info": {
      "name": "python"
    }
  },
  "cells": [
    {
      "cell_type": "code",
      "execution_count": null,
      "metadata": {
        "id": "DmA-cGEVBsPD"
      },
      "outputs": [],
      "source": [
        "import pandas as pd\n",
        "\n",
        "class Gemma:\n",
        "    def __init__(self):\n",
        "        self.data = None\n",
        "\n",
        "    def load_data(self, file_path):\n",
        "        try:\n",
        "            self.data = pd.read_csv(file_path)\n",
        "            return \"Data loaded successfully!\"\n",
        "        except Exception as e:\n",
        "            return f\"Error loading data: {str(e)}\"\n",
        "\n",
        "    def summary_stats(self):\n",
        "        if self.data is not None:\n",
        "            return self.data.describe()\n",
        "        else:\n",
        "            return \"No data loaded yet. Please load data first.\"\n",
        "\n",
        "    def head(self, n=5):\n",
        "        if self.data is not None:\n",
        "            return self.data.head(n)\n",
        "        else:\n",
        "            return \"No data loaded yet. Please load data first.\"\n",
        "\n",
        "    def tail(self, n=5):\n",
        "        if self.data is not None:\n",
        "            return self.data.tail(n)\n",
        "        else:\n",
        "            return \"No data loaded yet. Please load data first.\"\n",
        "\n",
        "    def get_column_names(self):\n",
        "        if self.data is not None:\n",
        "            return self.data.columns.tolist()\n",
        "        else:\n",
        "            return \"No data loaded yet. Please load data first.\"\n",
        "\n",
        "    def data_info(self):\n",
        "        if self.data is not None:\n",
        "            return self.data.info()\n",
        "        else:\n",
        "            return \"No data loaded yet. Please load data first.\"\n",
        "\n",
        "    def analyze_column(self, column_name):\n",
        "        if self.data is not None:\n",
        "            if column_name in self.data.columns:\n",
        "                return self.data[column_name].describe()\n",
        "            else:\n",
        "                return f\"Column '{column_name}' not found.\"\n",
        "        else:\n",
        "            return \"No data loaded yet. Please load data first.\"\n",
        "\n",
        "# Example usage:\n",
        "assistant = Gemma()\n",
        "print(assistant.load_data(\"data.csv\"))\n",
        "print(assistant.summary_stats())\n",
        "print(assistant.head())\n",
        "print(assistant.tail())\n",
        "print(assistant.get_column_names())\n",
        "print(assistant.data_info())\n",
        "print(assistant.analyze_column(\"Age\"))"
      ]
    }
  ]
}