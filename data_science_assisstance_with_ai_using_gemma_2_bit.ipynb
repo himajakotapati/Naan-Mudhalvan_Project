{
  "nbformat": 4,
  "nbformat_minor": 0,
  "metadata": {
    "colab": {
      "provenance": []
    },
    "kernelspec": {
      "name": "python3",
      "display_name": "Python 3"
    },
    "language_info": {
      "name": "python"
    }
  },
  "cells": [
    {
      "cell_type": "code",
      "source": [
        "!pip install gemma"
      ],
      "metadata": {
        "colab": {
          "base_uri": "https://localhost:8080/"
        },
        "id": "uMz6-ZrYzZMX",
        "outputId": "e78589e2-c91d-4ec6-e18e-54d18b3c843f"
      },
      "execution_count": 1,
      "outputs": [
        {
          "output_type": "stream",
          "name": "stdout",
          "text": [
            "Requirement already satisfied: gemma in /usr/local/lib/python3.10/dist-packages (1.2.2)\n",
            "Requirement already satisfied: dataclasses in /usr/local/lib/python3.10/dist-packages (from gemma) (0.6)\n"
          ]
        }
      ]
    },
    {
      "cell_type": "code",
      "source": [
        "# Import Gemma 2b-it library\n",
        "import gemma\n",
        "\n",
        "# Define a function to greet the user\n",
        "def greet():\n",
        "    print(\"Hello! I am your Data Science AI Assistant. How can I assist you today?\")\n",
        "\n",
        "# Define a function to help with data cleaning\n",
        "def clean_data():\n",
        "    # Add your data cleaning code here\n",
        "    pass\n",
        "\n",
        "# Define a function to help with data visualization\n",
        "def visualize_data():\n",
        "    # Add your data visualization code here\n",
        "    pass\n",
        "\n",
        "# Define a function to help with model building\n",
        "def build_model():\n",
        "    # Add your model building code here\n",
        "    pass\n",
        "\n",
        "# Define a function to help with model evaluation\n",
        "def evaluate_model():\n",
        "    # Add your model evaluation code here\n",
        "    pass\n",
        "\n",
        "# Main function to interact with the user\n",
        "def main():\n",
        "    greet()\n",
        "    while True:\n",
        "        user_input = input(\"How can I assist you? (clean data/visualize data/build model/evaluate model/exit): \")\n",
        "        if user_input == \"clean data\":\n",
        "            clean_data()\n",
        "        elif user_input == \"visualize data\":\n",
        "            visualize_data()\n",
        "        elif user_input == \"build model\":\n",
        "            build_model()\n",
        "        elif user_input == \"evaluate model\":\n",
        "            evaluate_model()\n",
        "        elif user_input == \"exit\":\n",
        "            print(\"Thank you for using the Data Science AI Assistant. Goodbye!\")\n",
        "            break\n",
        "        else:\n",
        "            print(\"Invalid input. Please try again.\")\n",
        "\n",
        "if __name__ == \"__main__\":\n",
        "    main()\n"
      ],
      "metadata": {
        "colab": {
          "base_uri": "https://localhost:8080/"
        },
        "id": "qcp9Lajuzo-s",
        "outputId": "c6ade45f-ac3a-41fc-c290-1f73418059d1"
      },
      "execution_count": 2,
      "outputs": [
        {
          "output_type": "stream",
          "name": "stdout",
          "text": [
            "Hello! I am your Data Science AI Assistant. How can I assist you today?\n",
            "How can I assist you? (clean data/visualize data/build model/evaluate model/exit): exit\n",
            "Thank you for using the Data Science AI Assistant. Goodbye!\n"
          ]
        }
      ]
    },
    {
      "cell_type": "code",
      "source": [],
      "metadata": {
        "id": "wGhNFlsNztmj"
      },
      "execution_count": null,
      "outputs": []
    }
  ]
}